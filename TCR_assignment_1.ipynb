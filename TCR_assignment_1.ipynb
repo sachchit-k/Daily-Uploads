{
  "nbformat": 4,
  "nbformat_minor": 0,
  "metadata": {
    "colab": {
      "provenance": [],
      "authorship_tag": "ABX9TyPN+/Q+ImY8sI1OsnzJ29yl",
      "include_colab_link": true
    },
    "kernelspec": {
      "name": "python3",
      "display_name": "Python 3"
    },
    "language_info": {
      "name": "python"
    }
  },
  "cells": [
    {
      "cell_type": "markdown",
      "metadata": {
        "id": "view-in-github",
        "colab_type": "text"
      },
      "source": [
        "<a href=\"https://colab.research.google.com/github/sachchit-k/Daily-Uploads/blob/main/TCR_assignment_1.ipynb\" target=\"_parent\"><img src=\"https://colab.research.google.com/assets/colab-badge.svg\" alt=\"Open In Colab\"/></a>"
      ]
    },
    {
      "cell_type": "markdown",
      "source": [
        "Q1 : bmi index measurement\n"
      ],
      "metadata": {
        "id": "wOxWorIE9CFH"
      }
    },
    {
      "cell_type": "code",
      "execution_count": null,
      "metadata": {
        "colab": {
          "base_uri": "https://localhost:8080/"
        },
        "id": "1UhTOueJ89mJ",
        "outputId": "a41e2cec-7d53-4540-f648-45091b6eb7ab"
      },
      "outputs": [
        {
          "name": "stdout",
          "output_type": "stream",
          "text": [
            "give your height:55\n"
          ]
        }
      ],
      "source": [
        "a=int(input(\"give your height:\"))"
      ]
    },
    {
      "cell_type": "code",
      "source": [
        "b=int(input(\"give your weight:\"))"
      ],
      "metadata": {
        "colab": {
          "base_uri": "https://localhost:8080/"
        },
        "id": "tSVMGYBj9Oa2",
        "outputId": "cbf55af5-7d03-4e96-d484-9f9c48e07c3b"
      },
      "execution_count": null,
      "outputs": [
        {
          "name": "stdout",
          "output_type": "stream",
          "text": [
            "give your weight:1\n"
          ]
        }
      ]
    },
    {
      "cell_type": "code",
      "source": [
        "bmi=b/a"
      ],
      "metadata": {
        "id": "c4JFV_n595Jd"
      },
      "execution_count": null,
      "outputs": []
    },
    {
      "cell_type": "code",
      "source": [
        "print(\"your bmi is :\",bmi)"
      ],
      "metadata": {
        "colab": {
          "base_uri": "https://localhost:8080/"
        },
        "id": "QOZ5qFIU-COT",
        "outputId": "75ca5199-7f7c-4098-929f-207501cd4327"
      },
      "execution_count": null,
      "outputs": [
        {
          "output_type": "stream",
          "name": "stdout",
          "text": [
            "your bmi is : 0.01818181818181818\n"
          ]
        }
      ]
    },
    {
      "cell_type": "markdown",
      "source": [
        "2. Write a python program to convert the temperature either from celsius to fahrenheit or from fahrenheit to celsius. To request the program user to input the temperature value with their F or C to represent fahrenheit or celsius. One of the example is shown below"
      ],
      "metadata": {
        "id": "8mg605oS-fPi"
      }
    },
    {
      "cell_type": "code",
      "source": [],
      "metadata": {
        "id": "1Rk5grNX-XeE"
      },
      "execution_count": null,
      "outputs": []
    }
  ]
}