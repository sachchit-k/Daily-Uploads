{
  "nbformat": 4,
  "nbformat_minor": 0,
  "metadata": {
    "colab": {
      "provenance": [],
      "collapsed_sections": [],
      "authorship_tag": "ABX9TyMnZ3J8X28Y7YlNs+WRhmZC",
      "include_colab_link": true
    },
    "kernelspec": {
      "name": "python3",
      "display_name": "Python 3"
    },
    "language_info": {
      "name": "python"
    }
  },
  "cells": [
    {
      "cell_type": "markdown",
      "metadata": {
        "id": "view-in-github",
        "colab_type": "text"
      },
      "source": [
        "<a href=\"https://colab.research.google.com/github/sachchit-k/Daily-Uploads/blob/main/TCR_assignment_1.ipynb\" target=\"_parent\"><img src=\"https://colab.research.google.com/assets/colab-badge.svg\" alt=\"Open In Colab\"/></a>"
      ]
    },
    {
      "cell_type": "markdown",
      "source": [
        "Q1 : bmi index measurement\n"
      ],
      "metadata": {
        "id": "wOxWorIE9CFH"
      }
    },
    {
      "cell_type": "code",
      "execution_count": 1,
      "metadata": {
        "colab": {
          "base_uri": "https://localhost:8080/"
        },
        "id": "1UhTOueJ89mJ",
        "outputId": "567dea55-9270-4c09-e912-46bca8fb7797"
      },
      "outputs": [
        {
          "name": "stdout",
          "output_type": "stream",
          "text": [
            "give your height:12\n"
          ]
        }
      ],
      "source": [
        "a=int(input(\"give your height:\"))"
      ]
    },
    {
      "cell_type": "code",
      "source": [
        "b=int(input(\"give your weight:\"))"
      ],
      "metadata": {
        "colab": {
          "base_uri": "https://localhost:8080/"
        },
        "id": "tSVMGYBj9Oa2",
        "outputId": "5f69ca79-1803-4784-c74b-b7cece431473"
      },
      "execution_count": 2,
      "outputs": [
        {
          "name": "stdout",
          "output_type": "stream",
          "text": [
            "give your weight:100\n"
          ]
        }
      ]
    },
    {
      "cell_type": "code",
      "source": [
        "bmi=b/a"
      ],
      "metadata": {
        "id": "c4JFV_n595Jd"
      },
      "execution_count": 3,
      "outputs": []
    },
    {
      "cell_type": "code",
      "source": [
        "print(\"your bmi is :\",bmi)"
      ],
      "metadata": {
        "colab": {
          "base_uri": "https://localhost:8080/"
        },
        "id": "QOZ5qFIU-COT",
        "outputId": "937e97ca-1aa2-42ca-eb21-8476c4da8abf"
      },
      "execution_count": 4,
      "outputs": [
        {
          "output_type": "stream",
          "name": "stdout",
          "text": [
            "your bmi is : 8.333333333333334\n"
          ]
        }
      ]
    },
    {
      "cell_type": "markdown",
      "source": [
        "2. Write a python program to convert the temperature either from celsius to fahrenheit or from fahrenheit to celsius. To request the program user to input the temperature value with their F or C to represent fahrenheit or celsius. One of the example is shown below"
      ],
      "metadata": {
        "id": "8mg605oS-fPi"
      }
    },
    {
      "cell_type": "code",
      "source": [
        "# formula for the program :- (0°C × 9/5) + 32 = 32°F\n"
      ],
      "metadata": {
        "id": "1Rk5grNX-XeE"
      },
      "execution_count": 5,
      "outputs": []
    },
    {
      "cell_type": "code",
      "source": [
        "a=(input(\"mention the  scale of temperatures i.e celcius or fahrenheit:\"))"
      ],
      "metadata": {
        "colab": {
          "base_uri": "https://localhost:8080/"
        },
        "id": "sEq6UCuQbxix",
        "outputId": "7d09ad66-2098-4547-d66c-1a226d6c291b"
      },
      "execution_count": 6,
      "outputs": [
        {
          "name": "stdout",
          "output_type": "stream",
          "text": [
            "mention the  scale of temperatures i.e celcius or fahrenheit:celcius\n"
          ]
        }
      ]
    },
    {
      "cell_type": "code",
      "source": [
        "celcius='celcius'\n",
        "fahrenheit='fahrenheit'"
      ],
      "metadata": {
        "id": "aNs8SZP9ceu2"
      },
      "execution_count": 7,
      "outputs": []
    },
    {
      "cell_type": "code",
      "source": [
        "if a==celcius:\n",
        "   a=int(input(\"give input:\"))\n",
        "   b=a*9/5\n",
        "   c=b+32\n",
        "   print(c,\"is the temp in fahrenheit\")\n",
        "\n",
        "elif a==fahrenheit:\n",
        "   a=int(input(\"give input:\"))\n",
        "   b=a-32\n",
        "   c=b*5/9\n",
        "   print(c,\"is the temp in celcius\")\n",
        "\n",
        "else:\n",
        "  print(\"your input scale of temp is wrong\")\n"
      ],
      "metadata": {
        "id": "D9Cd6SSqcRLI",
        "outputId": "1e67af66-fdd3-4f51-ca97-90e245382e02",
        "colab": {
          "base_uri": "https://localhost:8080/"
        }
      },
      "execution_count": 8,
      "outputs": [
        {
          "output_type": "stream",
          "name": "stdout",
          "text": [
            "give input:111\n",
            "231.8 is the temp in fahrenheit\n"
          ]
        }
      ]
    },
    {
      "cell_type": "markdown",
      "source": [
        "3. Write a python program find the number of characters present in a string (with out using len())\n"
      ],
      "metadata": {
        "id": "6BHjlpBBhiD7"
      }
    },
    {
      "cell_type": "code",
      "source": [
        "word=str(input(\"give input:\"))"
      ],
      "metadata": {
        "id": "up0s0x6gejdK",
        "outputId": "8cb211a6-426c-47a1-daed-70d4f85c4333",
        "colab": {
          "base_uri": "https://localhost:8080/"
        }
      },
      "execution_count": 23,
      "outputs": [
        {
          "name": "stdout",
          "output_type": "stream",
          "text": [
            "give input:la la land\n"
          ]
        }
      ]
    },
    {
      "cell_type": "code",
      "source": [
        "count=0\n",
        "word"
      ],
      "metadata": {
        "id": "elVozC8chmkS",
        "outputId": "02d74213-269a-4f2b-ec2b-23cc3f51a6ab",
        "colab": {
          "base_uri": "https://localhost:8080/",
          "height": 36
        }
      },
      "execution_count": 26,
      "outputs": [
        {
          "output_type": "execute_result",
          "data": {
            "text/plain": [
              "'la la land'"
            ],
            "application/vnd.google.colaboratory.intrinsic+json": {
              "type": "string"
            }
          },
          "metadata": {},
          "execution_count": 26
        }
      ]
    },
    {
      "cell_type": "code",
      "source": [
        "for i in word:\n",
        "  count=count+1\n",
        "print(\"length is\")\n",
        "count"
      ],
      "metadata": {
        "id": "9hlSq2nEjOVN",
        "outputId": "8d02de64-a7c3-4534-dd08-c2a0784509a1",
        "colab": {
          "base_uri": "https://localhost:8080/"
        }
      },
      "execution_count": 27,
      "outputs": [
        {
          "output_type": "stream",
          "name": "stdout",
          "text": [
            "length is\n"
          ]
        },
        {
          "output_type": "execute_result",
          "data": {
            "text/plain": [
              "10"
            ]
          },
          "metadata": {},
          "execution_count": 27
        }
      ]
    },
    {
      "cell_type": "markdown",
      "source": [
        "4. Write a python program to request the program user to input two personal information (name and age). Then print out those program user personal information as same as the following output."
      ],
      "metadata": {
        "id": "gjvePnNcksLr"
      }
    },
    {
      "cell_type": "code",
      "source": [
        "a=(input(\"enter you name\"))"
      ],
      "metadata": {
        "id": "PQfRCkRTkRc0",
        "outputId": "6ea91dda-f2f1-49b5-c024-b76c9bf08a34",
        "colab": {
          "base_uri": "https://localhost:8080/"
        }
      },
      "execution_count": 29,
      "outputs": [
        {
          "name": "stdout",
          "output_type": "stream",
          "text": [
            "enter you namejohn\n"
          ]
        }
      ]
    },
    {
      "cell_type": "code",
      "source": [
        "b=(input(\"enter your age\"))"
      ],
      "metadata": {
        "id": "68UVzRIHkqlx",
        "outputId": "da41ef86-4dc8-49e4-a3e1-3711ce0d371d",
        "colab": {
          "base_uri": "https://localhost:8080/"
        }
      },
      "execution_count": 30,
      "outputs": [
        {
          "name": "stdout",
          "output_type": "stream",
          "text": [
            "enter your age12\n"
          ]
        }
      ]
    },
    {
      "cell_type": "code",
      "source": [
        "print(\"Hello\",a,\"You are\",b,\"years old now. You can access to this program!\")"
      ],
      "metadata": {
        "id": "6FhEGVMplbCQ",
        "outputId": "085f4942-56f1-4fd1-b4da-09bd6c9207d7",
        "colab": {
          "base_uri": "https://localhost:8080/"
        }
      },
      "execution_count": 32,
      "outputs": [
        {
          "output_type": "stream",
          "name": "stdout",
          "text": [
            "Hello john You are 12 years old now. You can access to this program!\n"
          ]
        }
      ]
    },
    {
      "cell_type": "code",
      "source": [],
      "metadata": {
        "id": "w7DSIixnlmYU"
      },
      "execution_count": null,
      "outputs": []
    }
  ]
}