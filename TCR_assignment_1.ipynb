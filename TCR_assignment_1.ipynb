{
  "nbformat": 4,
  "nbformat_minor": 0,
  "metadata": {
    "colab": {
      "provenance": [],
      "collapsed_sections": [],
      "authorship_tag": "ABX9TyNWxASxZrHPPmEczUhhtkxV",
      "include_colab_link": true
    },
    "kernelspec": {
      "name": "python3",
      "display_name": "Python 3"
    },
    "language_info": {
      "name": "python"
    }
  },
  "cells": [
    {
      "cell_type": "markdown",
      "metadata": {
        "id": "view-in-github",
        "colab_type": "text"
      },
      "source": [
        "<a href=\"https://colab.research.google.com/github/sachchit-k/Daily-Uploads/blob/main/TCR_assignment_1.ipynb\" target=\"_parent\"><img src=\"https://colab.research.google.com/assets/colab-badge.svg\" alt=\"Open In Colab\"/></a>"
      ]
    },
    {
      "cell_type": "markdown",
      "source": [
        "Q1 : bmi index measurement\n"
      ],
      "metadata": {
        "id": "wOxWorIE9CFH"
      }
    },
    {
      "cell_type": "code",
      "execution_count": 9,
      "metadata": {
        "colab": {
          "base_uri": "https://localhost:8080/"
        },
        "id": "1UhTOueJ89mJ",
        "outputId": "507921ab-7fac-4ee0-a893-95cefa929c2e"
      },
      "outputs": [
        {
          "name": "stdout",
          "output_type": "stream",
          "text": [
            "give your height:1\n"
          ]
        }
      ],
      "source": [
        "a=int(input(\"give your height:\"))"
      ]
    },
    {
      "cell_type": "code",
      "source": [
        "b=int(input(\"give your weight:\"))"
      ],
      "metadata": {
        "colab": {
          "base_uri": "https://localhost:8080/"
        },
        "id": "tSVMGYBj9Oa2",
        "outputId": "a80f8928-fa56-475d-9808-961f99063b00"
      },
      "execution_count": 10,
      "outputs": [
        {
          "name": "stdout",
          "output_type": "stream",
          "text": [
            "give your weight:12\n"
          ]
        }
      ]
    },
    {
      "cell_type": "code",
      "source": [
        "bmi=b/a"
      ],
      "metadata": {
        "id": "c4JFV_n595Jd"
      },
      "execution_count": 11,
      "outputs": []
    },
    {
      "cell_type": "code",
      "source": [
        "print(\"your bmi is :\",bmi)"
      ],
      "metadata": {
        "colab": {
          "base_uri": "https://localhost:8080/"
        },
        "id": "QOZ5qFIU-COT",
        "outputId": "9d904c84-412f-4a5a-a1f0-46777d80faca"
      },
      "execution_count": 12,
      "outputs": [
        {
          "output_type": "stream",
          "name": "stdout",
          "text": [
            "your bmi is : 12.0\n"
          ]
        }
      ]
    },
    {
      "cell_type": "markdown",
      "source": [
        "2. Write a python program to convert the temperature either from celsius to fahrenheit or from fahrenheit to celsius. To request the program user to input the temperature value with their F or C to represent fahrenheit or celsius. One of the example is shown below"
      ],
      "metadata": {
        "id": "8mg605oS-fPi"
      }
    },
    {
      "cell_type": "code",
      "source": [
        "# formula for the program :- (0°C × 9/5) + 32 = 32°F\n"
      ],
      "metadata": {
        "id": "1Rk5grNX-XeE"
      },
      "execution_count": 13,
      "outputs": []
    },
    {
      "cell_type": "code",
      "source": [
        "a=(input(\"mention the  scale of temperatures i.e celcius or fahrenheit:\"))"
      ],
      "metadata": {
        "colab": {
          "base_uri": "https://localhost:8080/"
        },
        "id": "sEq6UCuQbxix",
        "outputId": "ccf9f23f-2cf5-4022-c763-b901f1dbf37f"
      },
      "execution_count": 21,
      "outputs": [
        {
          "name": "stdout",
          "output_type": "stream",
          "text": [
            "mention the  scale of temperatures i.e celcius or fahrenheit:celcius\n"
          ]
        }
      ]
    },
    {
      "cell_type": "code",
      "source": [
        "celcius='celcius'\n",
        "fahrenheit='fahrenheit'"
      ],
      "metadata": {
        "id": "aNs8SZP9ceu2"
      },
      "execution_count": 23,
      "outputs": []
    },
    {
      "cell_type": "code",
      "source": [
        "if a==celcius:\n",
        "   a=int(input(\"give input:\"))\n",
        "   b=a*9/5\n",
        "   c=b+32\n",
        "   print(c,\"is the temp in fahrenheit\")\n",
        "\n",
        "elif a==fahrenheit:\n",
        "   a=int(input(\"give input:\"))\n",
        "   b=a-32\n",
        "   c=b*5/9\n",
        "   print(c,\"is the temp in celcius\")\n",
        "\n",
        "else:\n",
        "  print(\"your input scale of temp is wrong\")\n"
      ],
      "metadata": {
        "id": "D9Cd6SSqcRLI"
      },
      "execution_count": null,
      "outputs": []
    },
    {
      "cell_type": "code",
      "source": [],
      "metadata": {
        "id": "up0s0x6gejdK"
      },
      "execution_count": null,
      "outputs": []
    }
  ]
}