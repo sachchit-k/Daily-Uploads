{
  "nbformat": 4,
  "nbformat_minor": 0,
  "metadata": {
    "colab": {
      "provenance": [],
      "collapsed_sections": [],
      "authorship_tag": "ABX9TyMJAUl2H6dVEVt4mAYH9yn+",
      "include_colab_link": true
    },
    "kernelspec": {
      "name": "python3",
      "display_name": "Python 3"
    },
    "language_info": {
      "name": "python"
    }
  },
  "cells": [
    {
      "cell_type": "markdown",
      "metadata": {
        "id": "view-in-github",
        "colab_type": "text"
      },
      "source": [
        "<a href=\"https://colab.research.google.com/github/sachchit-k/Daily-Uploads/blob/main/09_09_2022.ipynb\" target=\"_parent\"><img src=\"https://colab.research.google.com/assets/colab-badge.svg\" alt=\"Open In Colab\"/></a>"
      ]
    },
    {
      "cell_type": "code",
      "execution_count": 85,
      "metadata": {
        "id": "0c_Oz22rG9nP"
      },
      "outputs": [],
      "source": [
        "#outliers"
      ]
    },
    {
      "cell_type": "code",
      "source": [
        "import numpy as np\n",
        "import matplotlib.pyplot as plt\n",
        "%matplotlib inline"
      ],
      "metadata": {
        "id": "ALLvt5PALF3I"
      },
      "execution_count": 86,
      "outputs": []
    },
    {
      "cell_type": "code",
      "source": [
        "df=[11,12,3,2,44,5,12,5,41,12,15,1761,12,5,12,2,12,44,22,12,41,17,10,12,44]"
      ],
      "metadata": {
        "id": "S3C0ZZ2SRyz5"
      },
      "execution_count": 87,
      "outputs": []
    },
    {
      "cell_type": "code",
      "source": [
        "plt.hist(df)"
      ],
      "metadata": {
        "colab": {
          "base_uri": "https://localhost:8080/",
          "height": 341
        },
        "id": "VMqVZdcDY4P5",
        "outputId": "7fa5d275-a564-4648-b87c-a94521725aee"
      },
      "execution_count": 88,
      "outputs": [
        {
          "output_type": "execute_result",
          "data": {
            "text/plain": [
              "(array([24.,  0.,  0.,  0.,  0.,  0.,  0.,  0.,  0.,  1.]),\n",
              " array([   2. ,  177.9,  353.8,  529.7,  705.6,  881.5, 1057.4, 1233.3,\n",
              "        1409.2, 1585.1, 1761. ]),\n",
              " <a list of 10 Patch objects>)"
            ]
          },
          "metadata": {},
          "execution_count": 88
        },
        {
          "output_type": "display_data",
          "data": {
            "text/plain": [
              "<Figure size 432x288 with 1 Axes>"
            ],
            "image/png": "[encoded data removed]"
          },
          "metadata": {
            "needs_background": "light"
          }
        }
      ]
    },
    {
      "cell_type": "markdown",
      "source": [
        "Z score\n"
      ],
      "metadata": {
        "id": "ioit8VfObgpW"
      }
    },
    {
      "cell_type": "code",
      "source": [
        "##z score computation\n",
        "\n",
        "outliers=[]\n",
        "\n",
        "def detect_outliers(data):\n",
        "  threshold=3     ## 3 std dev refer 22 june\n",
        "  mean=np.mean(data)\n",
        "  std=np.std(data)\n",
        "  \n",
        "  for i in data:\n",
        "    z_score=(i-mean)/std\n",
        "    if np.abs(z_score)>threshold:\n",
        "      outliers.append(i)\n",
        "\n",
        "  return outliers\n",
        "\n"
      ],
      "metadata": {
        "id": "6dW8NmReShL3"
      },
      "execution_count": 89,
      "outputs": []
    },
    {
      "cell_type": "code",
      "source": [
        "detect_outliers(df)"
      ],
      "metadata": {
        "colab": {
          "base_uri": "https://localhost:8080/"
        },
        "id": "m5RMYeobSjNI",
        "outputId": "508948d2-6c1c-439a-b1dc-5deea3bf2597"
      },
      "execution_count": 90,
      "outputs": [
        {
          "output_type": "execute_result",
          "data": {
            "text/plain": [
              "[1761]"
            ]
          },
          "metadata": {},
          "execution_count": 90
        }
      ]
    },
    {
      "cell_type": "markdown",
      "source": [
        "IQR"
      ],
      "metadata": {
        "id": "VjNi0GrDba8T"
      }
    },
    {
      "cell_type": "code",
      "source": [
        "# IQR\n",
        "# 1.sort data\n",
        "# 2.calculate q1 and q3\n",
        "# iqr=q3-q1\n",
        "# lower fence=q1-1.5*iqr\n",
        "# upper fence=q3+1.5*iqr"
      ],
      "metadata": {
        "id": "oqhroVxtZsGW"
      },
      "execution_count": 91,
      "outputs": []
    },
    {
      "cell_type": "code",
      "source": [
        "#sorting\n",
        "df=sorted(df)\n",
        "print(df)"
      ],
      "metadata": {
        "colab": {
          "base_uri": "https://localhost:8080/"
        },
        "id": "UATlkLkmbUJK",
        "outputId": "a4724054-61d3-4805-f6c2-2ecdf73b2100"
      },
      "execution_count": 92,
      "outputs": [
        {
          "output_type": "stream",
          "name": "stdout",
          "text": [
            "[2, 2, 3, 5, 5, 5, 10, 11, 12, 12, 12, 12, 12, 12, 12, 12, 15, 17, 22, 41, 41, 44, 44, 44, 1761]\n"
          ]
        }
      ]
    },
    {
      "cell_type": "code",
      "source": [
        "#determing percentile\n",
        "q1,q3=np.percentile(df,[25,75])\n",
        "print(q1,\"=Q1 & Q3=\",q3)"
      ],
      "metadata": {
        "colab": {
          "base_uri": "https://localhost:8080/"
        },
        "id": "BaUoy4OGbutZ",
        "outputId": "85e77385-3bbd-479e-9d02-867c83a2c5e2"
      },
      "execution_count": 93,
      "outputs": [
        {
          "output_type": "stream",
          "name": "stdout",
          "text": [
            "10.0 =Q1 & Q3= 22.0\n"
          ]
        }
      ]
    },
    {
      "cell_type": "code",
      "source": [
        "#lower fence & higher fence\n",
        "iqr=q3-q1\n",
        "lower_fence=q1-(1.5*iqr)\n",
        "higher_fence=q3+(1.5*iqr)\n",
        "print(\"iqr =\",iqr,\",\",lower_fence,\"<-->\",higher_fence)"
      ],
      "metadata": {
        "colab": {
          "base_uri": "https://localhost:8080/"
        },
        "id": "Ae7GPKcTbvFt",
        "outputId": "406fdfb6-f76a-401e-e4e0-d76ec2b22afe"
      },
      "execution_count": 94,
      "outputs": [
        {
          "output_type": "stream",
          "name": "stdout",
          "text": [
            "iqr = 12.0 , -8.0 <--> 40.0\n"
          ]
        }
      ]
    },
    {
      "cell_type": "code",
      "source": [
        "import seaborn as sns"
      ],
      "metadata": {
        "id": "W_RQszXGdUWk"
      },
      "execution_count": 95,
      "outputs": []
    },
    {
      "cell_type": "code",
      "source": [
        "sns.boxplot(df)"
      ],
      "metadata": {
        "colab": {
          "base_uri": "https://localhost:8080/",
          "height": 340
        },
        "id": "OeDHPabyenJR",
        "outputId": "c3f8ae45-a86d-4463-ebc5-23a2e7a6ba5f"
      },
      "execution_count": 96,
      "outputs": [
        {
          "output_type": "stream",
          "name": "stderr",
          "text": [
            "/usr/local/lib/python3.7/dist-packages/seaborn/_decorators.py:43: FutureWarning: Pass the following variable as a keyword arg: x. From version 0.12, the only valid positional argument will be `data`, and passing other arguments without an explicit keyword will result in an error or misinterpretation.\n",
            "  FutureWarning\n"
          ]
        },
        {
          "output_type": "execute_result",
          "data": {
            "text/plain": [
              "<matplotlib.axes._subplots.AxesSubplot at 0x7f1082d63e10>"
            ]
          },
          "metadata": {},
          "execution_count": 96
        },
        {
          "output_type": "display_data",
          "data": {
            "text/plain": [
              "<Figure size 432x288 with 1 Axes>"
            ],
            "image/png": "[encoded data removed]"
          },
          "metadata": {
            "needs_background": "light"
          }
        }
      ]
    },
    {
      "cell_type": "code",
      "source": [
        "df1=[-123,2, 2, 3, 5, 5, 5, 10, 11, 12, 12, 12, 12, 12, 12, 12, 12, 15, 17, 22, 44,19999]"
      ],
      "metadata": {
        "id": "d47qGrBuhSW2"
      },
      "execution_count": 97,
      "outputs": []
    },
    {
      "cell_type": "code",
      "source": [
        "for i in df1:\n",
        "  if i>higher_fence:\n",
        "    df1.remove(i)\n",
        "  elif i<lower_fence:\n",
        "    df1.remove(i) "
      ],
      "metadata": {
        "id": "2TvpfFw_epAl"
      },
      "execution_count": 100,
      "outputs": []
    },
    {
      "cell_type": "code",
      "source": [
        "print(df1,lower_fence,higher_fence)"
      ],
      "metadata": {
        "colab": {
          "base_uri": "https://localhost:8080/"
        },
        "id": "04zYfyMqfomq",
        "outputId": "63fbebfd-133c-49bf-ae13-c5be16b6aefe"
      },
      "execution_count": 101,
      "outputs": [
        {
          "output_type": "stream",
          "name": "stdout",
          "text": [
            "[2, 2, 3, 5, 5, 5, 10, 11, 12, 12, 12, 12, 12, 12, 12, 12, 15, 17, 22] -8.0 40.0\n"
          ]
        }
      ]
    },
    {
      "cell_type": "code",
      "source": [],
      "metadata": {
        "id": "XteogSC3giCx"
      },
      "execution_count": 99,
      "outputs": []
    }
  ]
}