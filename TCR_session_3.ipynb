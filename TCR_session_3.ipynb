{
  "nbformat": 4,
  "nbformat_minor": 0,
  "metadata": {
    "colab": {
      "name": "session-3.ipynb",
      "provenance": []
    },
    "kernelspec": {
      "name": "python3",
      "display_name": "Python 3"
    },
    "language_info": {
      "name": "python"
    }
  },
  "cells": [
    {
      "cell_type": "markdown",
      "source": [
        "# Arthmetic operators"
      ],
      "metadata": {
        "id": "YjfwRLlDcYay"
      }
    },
    {
      "cell_type": "code",
      "execution_count": 2,
      "metadata": {
        "colab": {
          "base_uri": "https://localhost:8080/"
        },
        "id": "03zomM5qcUdn",
        "outputId": "560df185-8a84-4902-9b7a-fd2573c1895e"
      },
      "outputs": [
        {
          "output_type": "stream",
          "name": "stdout",
          "text": [
            "x + y 13\n",
            "x - y 7\n",
            "x * y 30\n",
            "x / y 3.3333333333333335\n",
            "x % y 1\n"
          ]
        }
      ],
      "source": [
        "x=10\n",
        "y=3\n",
        "\n",
        "print(\"x + y\", x+y)\n",
        "print(\"x - y\", x-y)\n",
        "print(\"x * y\", x*y)\n",
        "print(\"x / y\", x/y)\n",
        "print(\"x % y\", x%y)"
      ]
    },
    {
      "cell_type": "code",
      "source": [
        "# comparison operators\n",
        "x=10\n",
        "y=20\n",
        "\n",
        "print(\"x > y\", x > y)\n",
        "print(\"x < y\", x < y)\n",
        "print(\"x == y\", x == y)\n",
        "print(\"x != y\", x != y)\n"
      ],
      "metadata": {
        "colab": {
          "base_uri": "https://localhost:8080/"
        },
        "id": "aaGTn6fjdMyy",
        "outputId": "ebf90553-1765-4ec0-927f-040721679c16"
      },
      "execution_count": 4,
      "outputs": [
        {
          "output_type": "stream",
          "name": "stdout",
          "text": [
            "x > y False\n",
            "x < y True\n",
            "x == y False\n",
            "x != y True\n"
          ]
        }
      ]
    },
    {
      "cell_type": "code",
      "source": [
        "'''\n",
        "Logical operators\n",
        "and operator\n",
        "\n",
        "'''\n",
        "x=10\n",
        "y=20\n",
        "\n",
        "print(x==10 and x < y)\n"
      ],
      "metadata": {
        "colab": {
          "base_uri": "https://localhost:8080/"
        },
        "id": "ulYPYhXtd53K",
        "outputId": "aa2c1726-0c9c-480f-ff76-6731f63d7d85"
      },
      "execution_count": 7,
      "outputs": [
        {
          "output_type": "stream",
          "name": "stdout",
          "text": [
            "True\n"
          ]
        }
      ]
    },
    {
      "cell_type": "code",
      "source": [
        "'''\n",
        "or operator\n",
        "\n",
        "'''\n",
        "x=10\n",
        "y=20\n",
        "\n",
        "print(x==110 or x < y)"
      ],
      "metadata": {
        "colab": {
          "base_uri": "https://localhost:8080/"
        },
        "id": "ZbhGXLeZe5Sp",
        "outputId": "a381c8f0-50fd-404c-c99d-5dfe4461cb91"
      },
      "execution_count": 10,
      "outputs": [
        {
          "output_type": "stream",
          "name": "stdout",
          "text": [
            "True\n"
          ]
        }
      ]
    },
    {
      "cell_type": "code",
      "source": [
        "# not operator\n",
        "print(x!=10)\n",
        "\n",
        "\n",
        "print(not x==10)"
      ],
      "metadata": {
        "colab": {
          "base_uri": "https://localhost:8080/"
        },
        "id": "CKme0fLofTdq",
        "outputId": "2187773e-c1ba-4a85-f5c5-08bff2f1ea3b"
      },
      "execution_count": 12,
      "outputs": [
        {
          "output_type": "stream",
          "name": "stdout",
          "text": [
            "False\n",
            "False\n"
          ]
        }
      ]
    },
    {
      "cell_type": "code",
      "source": [
        "#Assignment operators\n",
        "\n",
        "x=10\n",
        "print(x)\n",
        "\n",
        "\n",
        "x+=5\n",
        "print(x)"
      ],
      "metadata": {
        "colab": {
          "base_uri": "https://localhost:8080/"
        },
        "id": "kUqafKzMf7zn",
        "outputId": "36185ed7-1cd1-4d18-d885-19e0004492c2"
      },
      "execution_count": 16,
      "outputs": [
        {
          "output_type": "stream",
          "name": "stdout",
          "text": [
            "10\n",
            "15\n"
          ]
        }
      ]
    },
    {
      "cell_type": "code",
      "source": [
        "# String formatting\n",
        "\n",
        "x=10\n",
        "y=20\n",
        "\n",
        "print(\" {0} +  {1}  =   {2}\".format(x,y,x*y))"
      ],
      "metadata": {
        "colab": {
          "base_uri": "https://localhost:8080/"
        },
        "id": "LE4TUgWogmHA",
        "outputId": "ab23b34e-34f5-437c-ca74-d2adf0a2887f"
      },
      "execution_count": 17,
      "outputs": [
        {
          "output_type": "stream",
          "name": "stdout",
          "text": [
            "10 + 20  = 200\n"
          ]
        }
      ]
    },
    {
      "cell_type": "code",
      "source": [
        "# python easy string formatting\n",
        "\n",
        "age=25\n",
        "Name = \"Raj\"\n",
        "\n",
        "print(f\"Your name is {Name} and your age is {age}\")"
      ],
      "metadata": {
        "colab": {
          "base_uri": "https://localhost:8080/"
        },
        "id": "37OPCKGkiLWw",
        "outputId": "4d136779-fafb-42f4-a41e-e018c6c245f1"
      },
      "execution_count": 18,
      "outputs": [
        {
          "output_type": "stream",
          "name": "stdout",
          "text": [
            "Your name is Raj and your age is 25\n"
          ]
        }
      ]
    },
    {
      "cell_type": "code",
      "source": [
        "#if statement\n",
        "\n",
        "num=10\n",
        "\n",
        "if num>0:\n",
        "  print(\"number is positive\")"
      ],
      "metadata": {
        "colab": {
          "base_uri": "https://localhost:8080/"
        },
        "id": "QKBQOmU5kY0g",
        "outputId": "ddaa62e3-cf04-49d6-ec91-293ffed6fd50"
      },
      "execution_count": 19,
      "outputs": [
        {
          "output_type": "stream",
          "name": "stdout",
          "text": [
            "number is positive\n"
          ]
        }
      ]
    },
    {
      "cell_type": "code",
      "source": [
        "num = int(input(\"please Enter value\"))\n",
        "\n",
        "if num > 0 :\n",
        "  print(num, \" is a positive number\")\n",
        "\n"
      ],
      "metadata": {
        "colab": {
          "base_uri": "https://localhost:8080/"
        },
        "id": "u42Dg9UWlM3O",
        "outputId": "54670086-6830-426b-92a5-c24d52308ca0"
      },
      "execution_count": 20,
      "outputs": [
        {
          "output_type": "stream",
          "name": "stdout",
          "text": [
            "please Enter value40\n",
            "40  is a positive number\n"
          ]
        }
      ]
    },
    {
      "cell_type": "code",
      "source": [
        "num = int(input(\"please Enter value\"))\n",
        "\n",
        "if num > 0 :\n",
        "  print(num, \" is a positive number\")\n",
        "  print(\"this line also execute\")\n",
        "  print(\"more lines are going to execute\")\n",
        "else:\n",
        "  print(\"number is not positive\")\n",
        "  print(\"this is another lines\")\n",
        "\n",
        "print(\"end of program\") "
      ],
      "metadata": {
        "colab": {
          "base_uri": "https://localhost:8080/"
        },
        "id": "rV5EeQ9Hl89G",
        "outputId": "01642c85-4c86-455d-a643-465fd6580601"
      },
      "execution_count": 21,
      "outputs": [
        {
          "output_type": "stream",
          "name": "stdout",
          "text": [
            "please Enter value-5\n",
            "number is not positive\n",
            "his is another lines\n",
            "end of program\n"
          ]
        }
      ]
    },
    {
      "cell_type": "code",
      "source": [
        "#odd or even\n",
        "\n",
        "num = int(input(\"enter the value\"))\n",
        "\n",
        "if num%2==0:\n",
        "  print(num, \" is even\")\n",
        "else:\n",
        "  print(num, \" is odd\")\n",
        "\n"
      ],
      "metadata": {
        "colab": {
          "base_uri": "https://localhost:8080/"
        },
        "id": "Bm_OMsRCneFP",
        "outputId": "2e7d5a11-6fe8-48c5-d320-b368ae378586"
      },
      "execution_count": 23,
      "outputs": [
        {
          "output_type": "stream",
          "name": "stdout",
          "text": [
            "enter the value4\n",
            "4  is even\n"
          ]
        }
      ]
    },
    {
      "cell_type": "code",
      "source": [
        "#login program with if condition\n",
        "# logical operators\n",
        "\n",
        "user = input (\"please enter username\")\n",
        "password = input (\"please enter password\")\n",
        "\n",
        "\n",
        "if user ==\"admin\" and password ==\"123\":\n",
        "  print(\"login successfully\")\n",
        "else:\n",
        "  print(\"invalid username/password\")\n",
        "\n"
      ],
      "metadata": {
        "colab": {
          "base_uri": "https://localhost:8080/"
        },
        "id": "TB_e_tL7oDZG",
        "outputId": "df22896b-5a47-4062-9c30-3fcdbb6588f0"
      },
      "execution_count": 25,
      "outputs": [
        {
          "output_type": "stream",
          "name": "stdout",
          "text": [
            "please enter usernamestudent\n",
            "please enter password\n",
            "invalid username/password\n"
          ]
        }
      ]
    },
    {
      "cell_type": "code",
      "source": [
        "#if..elif..else statement\n",
        "\n",
        "\n",
        "num = int(input(\"enter the number\"))\n",
        "if num >0 :\n",
        "  print(\"positive number\")\n",
        "elif num==0:\n",
        "  print(\"number is zero\")\n",
        "else:\n",
        "  print(\"negative number\")\n",
        "\n",
        "\n"
      ],
      "metadata": {
        "colab": {
          "base_uri": "https://localhost:8080/"
        },
        "id": "lJ1nQXg7pO-3",
        "outputId": "592300a2-2748-4a2c-e84d-cf0ce8280ca0"
      },
      "execution_count": 28,
      "outputs": [
        {
          "output_type": "stream",
          "name": "stdout",
          "text": [
            "enter the number0\n",
            "number is zero\n"
          ]
        }
      ]
    },
    {
      "cell_type": "code",
      "source": [
        "'''\n",
        "Write a program to dispaly grade\n",
        "\n",
        "marks       grade\n",
        ">85       A\n",
        ">60       B+\n",
        ">40       B\n",
        ">30       C\n",
        "otherwise fail\n",
        "'''\n",
        "marks = int(input(\"Enter marks\"))\n",
        "if marks > 85 and marks <=100:\n",
        "  print(\"congrates ....!!! you scored grade A\")\n",
        "elif marks > 60 and marks <=85:\n",
        "   print(\"congrates ....!!! you scored grade B+\")\n",
        "elif marks > 40 and marks <=60:\n",
        "   print(\"congrates ....!!! you scored grade B\")\n",
        "elif marks > 30 and marks <=40:\n",
        "   print(\"congrates ....!!! you scored grade C\")\n",
        "else:\n",
        "  print(\"sorry you are fail ....!!!\")\n"
      ],
      "metadata": {
        "colab": {
          "base_uri": "https://localhost:8080/"
        },
        "id": "S0h_dVJYp5se",
        "outputId": "03ab528d-f2e3-4b27-cc5a-4c5be4005212"
      },
      "execution_count": 33,
      "outputs": [
        {
          "output_type": "stream",
          "name": "stdout",
          "text": [
            "Enter marks20\n",
            "sorry you are fail ....!!!\n"
          ]
        }
      ]
    },
    {
      "cell_type": "code",
      "source": [
        "'''calculate total marks, percentage and grade of a student\n",
        "\n",
        "Name\n",
        "5 subjects marks\n",
        "calculate total and average\n",
        "show grade \n",
        "\n",
        "'''\n",
        "\n",
        "name = input(\"enter your name \")\n",
        "soc = int(input(\"enter  soc sub marks\"))\n",
        "phy = int(input(\"enter  phy sub marks\"))\n",
        "chem = int(input(\"enter  chem sub marks\"))\n",
        "eng = int(input(\"enter  eng sub marks\"))\n",
        "math = int(input(\"enter math sub marks\"))\n",
        "total = soc + phy + chem + eng + math\n",
        "print(total)\n",
        "avg = total/5\n",
        "print(avg)\n",
        "if avg>85:\n",
        "  print(\"A\")\n",
        "elif avg>70:\n",
        "  print(\"B\")\n",
        "elif avg>60:\n",
        "  print(\"B+\")\n",
        "elif avg>50:\n",
        "  print(\"c\")\n",
        "else:\n",
        "  print(\"failed\")\n"
      ],
      "metadata": {
        "colab": {
          "base_uri": "https://localhost:8080/"
        },
        "id": "rCLhhjnqsDzM",
        "outputId": "57819a75-0cca-4189-9284-d41700c65918"
      },
      "execution_count": 34,
      "outputs": [
        {
          "output_type": "stream",
          "name": "stdout",
          "text": [
            "enter your name Raj\n",
            "enter  soc sub marks56\n",
            "enter  phy sub marks89\n",
            "enter  chem sub marks45\n",
            "enter  eng sub marks56\n",
            "enter math sub marks68\n",
            "314\n",
            "62.8\n",
            "B+\n"
          ]
        }
      ]
    }
  ]
}