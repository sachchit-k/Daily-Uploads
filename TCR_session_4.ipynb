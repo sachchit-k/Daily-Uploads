{
  "nbformat": 4,
  "nbformat_minor": 0,
  "metadata": {
    "colab": {
      "provenance": [],
      "collapsed_sections": [],
      "authorship_tag": "ABX9TyOnDZ54oyRlOEOw3hpwf8Es",
      "include_colab_link": true
    },
    "kernelspec": {
      "name": "python3",
      "display_name": "Python 3"
    },
    "language_info": {
      "name": "python"
    }
  },
  "cells": [
    {
      "cell_type": "markdown",
      "metadata": {
        "id": "view-in-github",
        "colab_type": "text"
      },
      "source": [
        "<a href=\"https://colab.research.google.com/github/sachchit-k/Daily-Uploads/blob/main/TCR_session_4.ipynb\" target=\"_parent\"><img src=\"https://colab.research.google.com/assets/colab-badge.svg\" alt=\"Open In Colab\"/></a>"
      ]
    },
    {
      "cell_type": "code",
      "execution_count": 1,
      "metadata": {
        "id": "cc7jhy7Aq_Pz"
      },
      "outputs": [],
      "source": [
        "# LISTS in python i.e arrays in java"
      ]
    },
    {
      "cell_type": "code",
      "source": [
        "#python has both forword and backword indexing"
      ],
      "metadata": {
        "id": "kIrsKJICtAnW"
      },
      "execution_count": 2,
      "outputs": []
    },
    {
      "cell_type": "markdown",
      "source": [
        "#creating lists\n"
      ],
      "metadata": {
        "id": "5crLGqkAuWAB"
      }
    },
    {
      "cell_type": "code",
      "source": [
        "asiacup=[\"sri_lanka\",\"india\",\"pakistan\",\"afganistan\",\"hong_kong\"]"
      ],
      "metadata": {
        "id": "vl4KMDZIt00q"
      },
      "execution_count": 4,
      "outputs": []
    },
    {
      "cell_type": "code",
      "source": [
        "asiacup"
      ],
      "metadata": {
        "colab": {
          "base_uri": "https://localhost:8080/"
        },
        "id": "hcxWBJaBuxpn",
        "outputId": "58004388-5448-4fd6-82fa-90c42cc83ae9"
      },
      "execution_count": 11,
      "outputs": [
        {
          "output_type": "execute_result",
          "data": {
            "text/plain": [
              "['sri_lanka', 'india', 'pakistan', 'afganistan', 'hong_kong']"
            ]
          },
          "metadata": {},
          "execution_count": 11
        }
      ]
    },
    {
      "cell_type": "code",
      "source": [
        "print(asiacup[1:3])"
      ],
      "metadata": {
        "colab": {
          "base_uri": "https://localhost:8080/"
        },
        "id": "Keqy3mQWu1mw",
        "outputId": "b34b223f-7fe4-4104-8c2f-34cffedfd71a"
      },
      "execution_count": 16,
      "outputs": [
        {
          "output_type": "stream",
          "name": "stdout",
          "text": [
            "['india', 'pakistan']\n"
          ]
        }
      ]
    },
    {
      "cell_type": "code",
      "source": [
        "print(asiacup[:-3])"
      ],
      "metadata": {
        "colab": {
          "base_uri": "https://localhost:8080/"
        },
        "id": "KEfCDuPFvLBG",
        "outputId": "914750da-d04b-47fd-a593-abdcca4947c8"
      },
      "execution_count": 14,
      "outputs": [
        {
          "output_type": "stream",
          "name": "stdout",
          "text": [
            "['sri_lanka', 'india']\n"
          ]
        }
      ]
    },
    {
      "cell_type": "code",
      "source": [
        "print(asiacup[-4:-2])"
      ],
      "metadata": {
        "colab": {
          "base_uri": "https://localhost:8080/"
        },
        "id": "O92_ylh9vTu9",
        "outputId": "f83c6902-e7f6-477c-ad8f-299d0a093b97"
      },
      "execution_count": 19,
      "outputs": [
        {
          "output_type": "stream",
          "name": "stdout",
          "text": [
            "['india', 'pakistan']\n"
          ]
        }
      ]
    },
    {
      "cell_type": "code",
      "source": [
        "#updating"
      ],
      "metadata": {
        "id": "eOAa7tJbvnaA"
      },
      "execution_count": 20,
      "outputs": []
    },
    {
      "cell_type": "code",
      "source": [
        "afg=asiacup[3]"
      ],
      "metadata": {
        "id": "dhAtuY1gvz78"
      },
      "execution_count": 23,
      "outputs": []
    },
    {
      "cell_type": "code",
      "source": [
        "afg"
      ],
      "metadata": {
        "colab": {
          "base_uri": "https://localhost:8080/",
          "height": 36
        },
        "id": "Jbo7kpCkv5kS",
        "outputId": "b5465775-97a2-48f5-ea19-ebb015a7f0e1"
      },
      "execution_count": 24,
      "outputs": [
        {
          "output_type": "execute_result",
          "data": {
            "text/plain": [
              "'afganistan'"
            ],
            "application/vnd.google.colaboratory.intrinsic+json": {
              "type": "string"
            }
          },
          "metadata": {},
          "execution_count": 24
        }
      ]
    },
    {
      "cell_type": "code",
      "source": [
        "asiacup.append(\"nepal\")"
      ],
      "metadata": {
        "id": "UwbcQOzvv6rV"
      },
      "execution_count": 26,
      "outputs": []
    },
    {
      "cell_type": "code",
      "source": [
        "asiacup"
      ],
      "metadata": {
        "colab": {
          "base_uri": "https://localhost:8080/"
        },
        "id": "Irq_cJ9-wYHS",
        "outputId": "156288dc-0312-4675-d71a-3168abf5dfda"
      },
      "execution_count": 27,
      "outputs": [
        {
          "output_type": "execute_result",
          "data": {
            "text/plain": [
              "['sri_lanka', 'india', 'pakistan', 'afganistan', 'hong_kong', 'nepal']"
            ]
          },
          "metadata": {},
          "execution_count": 27
        }
      ]
    },
    {
      "cell_type": "code",
      "source": [
        "#insert"
      ],
      "metadata": {
        "id": "dh-GXlqYwkiB"
      },
      "execution_count": 28,
      "outputs": []
    },
    {
      "cell_type": "code",
      "source": [
        "asiacup.insert(0,\"lala_land\")"
      ],
      "metadata": {
        "id": "2zMNka99woNt"
      },
      "execution_count": 30,
      "outputs": []
    },
    {
      "cell_type": "code",
      "source": [
        "asiacup"
      ],
      "metadata": {
        "colab": {
          "base_uri": "https://localhost:8080/"
        },
        "id": "t9D6PXDGxDFY",
        "outputId": "92b7ecfc-6535-4e79-afc0-54c710aa350e"
      },
      "execution_count": 31,
      "outputs": [
        {
          "output_type": "execute_result",
          "data": {
            "text/plain": [
              "['lala_land',\n",
              " 'sri_lanka',\n",
              " 'india',\n",
              " 'pakistan',\n",
              " 'afganistan',\n",
              " 'hong_kong',\n",
              " 'nepal']"
            ]
          },
          "metadata": {},
          "execution_count": 31
        }
      ]
    },
    {
      "cell_type": "code",
      "source": [
        "#pop"
      ],
      "metadata": {
        "id": "ofeMun1fxFh5"
      },
      "execution_count": 32,
      "outputs": []
    },
    {
      "cell_type": "code",
      "source": [
        "asiacup.pop()"
      ],
      "metadata": {
        "colab": {
          "base_uri": "https://localhost:8080/",
          "height": 36
        },
        "id": "pwb0uhRBxGfj",
        "outputId": "a1f6b40b-e75f-4e13-9579-90186d8349b4"
      },
      "execution_count": 33,
      "outputs": [
        {
          "output_type": "execute_result",
          "data": {
            "text/plain": [
              "'nepal'"
            ],
            "application/vnd.google.colaboratory.intrinsic+json": {
              "type": "string"
            }
          },
          "metadata": {},
          "execution_count": 33
        }
      ]
    },
    {
      "cell_type": "code",
      "source": [
        "#delete"
      ],
      "metadata": {
        "id": "Je2J4-K6xMmb"
      },
      "execution_count": 34,
      "outputs": []
    },
    {
      "cell_type": "code",
      "source": [
        "del asiacup[0]"
      ],
      "metadata": {
        "id": "lJG-XwBPxeJQ"
      },
      "execution_count": 35,
      "outputs": []
    },
    {
      "cell_type": "code",
      "source": [
        "asiacup"
      ],
      "metadata": {
        "colab": {
          "base_uri": "https://localhost:8080/"
        },
        "id": "dImORDLOxguM",
        "outputId": "78231008-59c1-440c-f563-f8d1107f21ad"
      },
      "execution_count": 36,
      "outputs": [
        {
          "output_type": "execute_result",
          "data": {
            "text/plain": [
              "['sri_lanka', 'india', 'pakistan', 'afganistan', 'hong_kong']"
            ]
          },
          "metadata": {},
          "execution_count": 36
        }
      ]
    },
    {
      "cell_type": "code",
      "source": [
        "#count\n",
        "#sort\n",
        "#reverse\n"
      ],
      "metadata": {
        "id": "wwyoT7qrxiN-"
      },
      "execution_count": 37,
      "outputs": []
    },
    {
      "cell_type": "code",
      "source": [
        "# TUPLES"
      ],
      "metadata": {
        "id": "FZadu7dezdCh"
      },
      "execution_count": null,
      "outputs": []
    }
  ]
}