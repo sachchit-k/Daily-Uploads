{
  "nbformat": 4,
  "nbformat_minor": 0,
  "metadata": {
    "colab": {
      "provenance": [],
      "collapsed_sections": [],
      "authorship_tag": "ABX9TyN7Wre45PHNre+EoTAJ65Nv",
      "include_colab_link": true
    },
    "kernelspec": {
      "name": "python3",
      "display_name": "Python 3"
    },
    "language_info": {
      "name": "python"
    }
  },
  "cells": [
    {
      "cell_type": "markdown",
      "metadata": {
        "id": "view-in-github",
        "colab_type": "text"
      },
      "source": [
        "<a href=\"https://colab.research.google.com/github/sachchit-k/Daily-Uploads/blob/main/01_09.ipynb\" target=\"_parent\"><img src=\"https://colab.research.google.com/assets/colab-badge.svg\" alt=\"Open In Colab\"/></a>"
      ]
    },
    {
      "cell_type": "code",
      "execution_count": null,
      "metadata": {
        "id": "gAfzNVPeWwPx"
      },
      "outputs": [],
      "source": [
        "# DAY1\n",
        "\n",
        "# Types:\n",
        "# Inferential\n",
        "# descriptive\n",
        "\n",
        "\n",
        "# population\n",
        "# sample\n",
        "\n",
        "\n",
        "# sampling techniques:\n",
        "# simple random sampling\n",
        "# stratified sampling \n",
        "# systematic sampling\n",
        "# convenience sampling\n",
        "\n",
        "# variables:\n",
        "# quantitaive\n",
        "# qualitative:\n",
        "#   discrete\n",
        "#   continuous\n",
        "\n",
        "# variable measurment scales:\n",
        "# nominal \n",
        "# ordinal\n",
        "# interval\n",
        "# ratio\n",
        "\n",
        "# frequency distribution\n",
        "# bar graph\n",
        "# histogram\n",
        "\n"
      ]
    }
  ]
}