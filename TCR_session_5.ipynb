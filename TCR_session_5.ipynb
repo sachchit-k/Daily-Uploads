{
  "nbformat": 4,
  "nbformat_minor": 0,
  "metadata": {
    "colab": {
      "provenance": [],
      "authorship_tag": "ABX9TyMBe/54l9BGp0YMbppCuH2D",
      "include_colab_link": true
    },
    "kernelspec": {
      "name": "python3",
      "display_name": "Python 3"
    },
    "language_info": {
      "name": "python"
    }
  },
  "cells": [
    {
      "cell_type": "markdown",
      "metadata": {
        "id": "view-in-github",
        "colab_type": "text"
      },
      "source": [
        "<a href=\"https://colab.research.google.com/github/sachchit-k/Daily-Uploads/blob/main/TCR_session_5.ipynb\" target=\"_parent\"><img src=\"https://colab.research.google.com/assets/colab-badge.svg\" alt=\"Open In Colab\"/></a>"
      ]
    },
    {
      "cell_type": "code",
      "execution_count": 1,
      "metadata": {
        "id": "3Tf6uRv_Swo4"
      },
      "outputs": [],
      "source": [
        "# # 01-09-2022\n",
        "# function\n",
        "#     -user defined function \n",
        "#    -multiple parameters \n",
        "#    -function with return type\n",
        "#    -required parameters \n",
        "#    -function with keyword \n",
        "#    -function with default valu\n",
        "#    -variabel length\n"
      ]
    },
    {
      "cell_type": "code",
      "source": [
        "# define function\n",
        "def hello() :\n",
        "  \"\"\" this function to dispay good evening message\"\"\"\n",
        "  print(\"hello good evening ...!!!\")\n",
        "  print(\"how are you?\")"
      ],
      "metadata": {
        "id": "KXoqUdaDS5dk"
      },
      "execution_count": 4,
      "outputs": []
    },
    {
      "cell_type": "code",
      "source": [
        "hello()"
      ],
      "metadata": {
        "colab": {
          "base_uri": "https://localhost:8080/"
        },
        "id": "vmmTxBHITQXN",
        "outputId": "2e9c73ba-f781-44c7-f358-b5a531b228c3"
      },
      "execution_count": 5,
      "outputs": [
        {
          "output_type": "stream",
          "name": "stdout",
          "text": [
            "hello good evening ...!!!\n",
            "how are you?\n"
          ]
        }
      ]
    },
    {
      "cell_type": "code",
      "source": [
        "help(hello)"
      ],
      "metadata": {
        "colab": {
          "base_uri": "https://localhost:8080/"
        },
        "id": "VHhgwbvqTSGp",
        "outputId": "cee3bb8f-4482-40ff-ec82-53d14c538850"
      },
      "execution_count": 6,
      "outputs": [
        {
          "output_type": "stream",
          "name": "stdout",
          "text": [
            "Help on function hello in module __main__:\n",
            "\n",
            "hello()\n",
            "    this function to dispay good evening message\n",
            "\n"
          ]
        }
      ]
    },
    {
      "cell_type": "code",
      "source": [
        "# function with parameters input to functions\n",
        "def greet (name):\n",
        "  print(\"hi , good evening \", name)\n",
        "  print(\"hi , good evening \", name)\n",
        "\n",
        "\n",
        "#calling function\n",
        "greet(\"Manish \")\n"
      ],
      "metadata": {
        "colab": {
          "base_uri": "https://localhost:8080/"
        },
        "id": "NSGIMLfxTspo",
        "outputId": "7d14ef1a-fae5-48f3-adea-193a755dd782"
      },
      "execution_count": 8,
      "outputs": [
        {
          "output_type": "stream",
          "name": "stdout",
          "text": [
            "hi , good evening  Manish \n",
            "hi , good evening  Manish \n"
          ]
        }
      ]
    },
    {
      "cell_type": "code",
      "source": [
        "#mutiple parameters\n",
        "def hello(name1, name2, name3):\n",
        "  print(\"hi good evening\",name1, name2, name3)\n",
        "#calling function\n",
        "hello(\"Raj\", \"Simran\", \"Manish\")"
      ],
      "metadata": {
        "colab": {
          "base_uri": "https://localhost:8080/"
        },
        "id": "KQLHgNNtU6IW",
        "outputId": "91a2dbc6-d3f6-41cf-c8ed-63caaa4bfe59"
      },
      "execution_count": 9,
      "outputs": [
        {
          "output_type": "stream",
          "name": "stdout",
          "text": [
            "hi good evening Raj Simran Manish\n"
          ]
        }
      ]
    },
    {
      "cell_type": "code",
      "source": [
        "#required parameters\n",
        "def show(id, name):\n",
        "  print(f\"Your id is {id} and your name is {name}\")\n",
        "\n",
        "show(1, \"Raj\")\n",
        "\n",
        "# show 10001)\n"
      ],
      "metadata": {
        "colab": {
          "base_uri": "https://localhost:8080/"
        },
        "id": "Crp36DK3Wm2o",
        "outputId": "4041f1de-3729-4f90-881e-beaee71160d6"
      },
      "execution_count": 12,
      "outputs": [
        {
          "output_type": "stream",
          "name": "stdout",
          "text": [
            "Your id is 1 and your name is Raj\n"
          ]
        }
      ]
    },
    {
      "cell_type": "code",
      "source": [
        "#function with keyworded argument\n",
        "def hello(firstname, lastname):\n",
        "  print(\"Hello\", firstname, lastname)\n",
        "#calling function\n",
        "hello(lastname=\"Sharma\",firstname=\"Rajesh \")"
      ],
      "metadata": {
        "colab": {
          "base_uri": "https://localhost:8080/"
        },
        "id": "m2OMr5dTYpYa",
        "outputId": "fdcb2538-2ae5-4c2e-95b2-7c7cc3022ca6"
      },
      "execution_count": 13,
      "outputs": [
        {
          "output_type": "stream",
          "name": "stdout",
          "text": [
            "Hello Rajesh  Sharma\n"
          ]
        }
      ]
    },
    {
      "cell_type": "code",
      "source": [],
      "metadata": {
        "id": "MNWoNmxEZUh6"
      },
      "execution_count": null,
      "outputs": []
    }
  ]
}