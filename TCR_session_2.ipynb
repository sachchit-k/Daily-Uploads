{
  "nbformat": 4,
  "nbformat_minor": 0,
  "metadata": {
    "colab": {
      "name": "session-2.ipynb",
      "provenance": [],
      "collapsed_sections": []
    },
    "kernelspec": {
      "name": "python3",
      "display_name": "Python 3"
    },
    "language_info": {
      "name": "python"
    }
  },
  "cells": [
    {
      "cell_type": "code",
      "execution_count": null,
      "metadata": {
        "colab": {
          "base_uri": "https://localhost:8080/"
        },
        "id": "1sZKuQDmIILf",
        "outputId": "2e5d006e-19ed-4815-f79b-727ec9c2d5ef"
      },
      "outputs": [
        {
          "output_type": "stream",
          "name": "stdout",
          "text": [
            "25\n"
          ]
        }
      ],
      "source": [
        "age=25\n",
        "print(age)"
      ]
    },
    {
      "cell_type": "code",
      "source": [
        "age=40\n",
        "age10=15\n",
        "#cann't start with number\n",
        "10age=25"
      ],
      "metadata": {
        "colab": {
          "base_uri": "https://localhost:8080/",
          "height": 131
        },
        "id": "SymXY2oFIqIr",
        "outputId": "5c6e82a2-8fd1-47e2-a08d-ca1ca1009449"
      },
      "execution_count": null,
      "outputs": [
        {
          "output_type": "error",
          "ename": "SyntaxError",
          "evalue": "ignored",
          "traceback": [
            "\u001b[0;36m  File \u001b[0;32m\"<ipython-input-2-bdd13d27167f>\"\u001b[0;36m, line \u001b[0;32m3\u001b[0m\n\u001b[0;31m    10age=25\u001b[0m\n\u001b[0m        ^\u001b[0m\n\u001b[0;31mSyntaxError\u001b[0m\u001b[0;31m:\u001b[0m invalid syntax\n"
          ]
        }
      ]
    },
    {
      "cell_type": "code",
      "source": [
        "_age=35"
      ],
      "metadata": {
        "id": "Vuv2QTeRJnjo"
      },
      "execution_count": null,
      "outputs": []
    },
    {
      "cell_type": "code",
      "source": [
        "#keywords\n",
        "for=50"
      ],
      "metadata": {
        "id": "O2RZZeqlJfJR"
      },
      "execution_count": null,
      "outputs": []
    },
    {
      "cell_type": "code",
      "source": [
        "# we are adding two numbers below :\n",
        "# This is session -2 of Python\n",
        "23+8\n"
      ],
      "metadata": {
        "colab": {
          "base_uri": "https://localhost:8080/"
        },
        "id": "bWmuFBsPKQNp",
        "outputId": "204a1b11-3e2c-42c5-950c-670e8723f97f"
      },
      "execution_count": null,
      "outputs": [
        {
          "output_type": "execute_result",
          "data": {
            "text/plain": [
              "31"
            ]
          },
          "metadata": {},
          "execution_count": 3
        }
      ]
    },
    {
      "cell_type": "code",
      "source": [
        "''' This is multiline comments example\n",
        "This is the second line of our comment\n",
        "This is thrid line of our comment '''\n",
        "\n",
        "\"\"\" This is an example of\n",
        "anothe way of multiline comments \"\"\"\n",
        "\n"
      ],
      "metadata": {
        "id": "QqvL5O8TK7Vv"
      },
      "execution_count": null,
      "outputs": []
    },
    {
      "cell_type": "code",
      "source": [
        "age=21\n",
        "name = \"Raj\"\n",
        "college = \"TCR\"\n",
        "\n",
        "print(age)\n",
        "print(name)\n",
        "print(college)"
      ],
      "metadata": {
        "colab": {
          "base_uri": "https://localhost:8080/"
        },
        "id": "QWrzbXIALgph",
        "outputId": "2ba3261d-1b63-43d9-c169-e510d1aa37e7"
      },
      "execution_count": null,
      "outputs": [
        {
          "output_type": "stream",
          "name": "stdout",
          "text": [
            "21\n",
            "Raj\n",
            "TCR\n"
          ]
        }
      ]
    },
    {
      "cell_type": "code",
      "source": [
        "# Assigning multiple values to multple variables\n",
        "a,b,c = 78, \"Raj\", 12.50\n",
        "\n",
        "print(a)\n",
        "print(b)\n",
        "print(c)"
      ],
      "metadata": {
        "colab": {
          "base_uri": "https://localhost:8080/"
        },
        "id": "Xma4Z93PL06X",
        "outputId": "1f0175a2-8018-4ee4-d9bd-33a6abb92309"
      },
      "execution_count": null,
      "outputs": [
        {
          "output_type": "stream",
          "name": "stdout",
          "text": [
            "78\n",
            "Raj\n",
            "12.5\n"
          ]
        }
      ]
    },
    {
      "cell_type": "code",
      "source": [
        "#print() : to dispaly output\n"
      ],
      "metadata": {
        "id": "_2t0lQT5MZxZ"
      },
      "execution_count": null,
      "outputs": []
    },
    {
      "cell_type": "code",
      "source": [
        "# input () : to take input from user\n",
        "\n",
        "\n",
        "rollno = input(\"Enter your rollno\")\n",
        "print(\"I know your rollno \", rollno)"
      ],
      "metadata": {
        "colab": {
          "base_uri": "https://localhost:8080/"
        },
        "id": "lDTyHZrwMgG5",
        "outputId": "726ece15-8386-47f7-e7e5-f10bd8ccc0ea"
      },
      "execution_count": null,
      "outputs": [
        {
          "output_type": "stream",
          "name": "stdout",
          "text": [
            "Enter your rollno1010\n",
            "I know your rollno  1010\n"
          ]
        }
      ]
    },
    {
      "cell_type": "code",
      "source": [
        "# type() : return data type \n",
        "print(type(a))\n",
        "print(type(b))\n",
        "print(type(c))"
      ],
      "metadata": {
        "colab": {
          "base_uri": "https://localhost:8080/"
        },
        "id": "a14tWumGNgYo",
        "outputId": "c8f3b652-a09c-478c-b8b8-2bc87cf79f40"
      },
      "execution_count": null,
      "outputs": [
        {
          "output_type": "stream",
          "name": "stdout",
          "text": [
            "<class 'int'>\n",
            "<class 'str'>\n",
            "<class 'float'>\n"
          ]
        }
      ]
    },
    {
      "cell_type": "markdown",
      "source": [
        "**type-casting : convert data type**"
      ],
      "metadata": {
        "id": "tipxGud5Qw7g"
      }
    },
    {
      "cell_type": "code",
      "source": [
        "#str () : to convert from int to string type\n",
        "x= 10\n",
        "type(x)\n",
        "\n",
        "type(str(x))"
      ],
      "metadata": {
        "colab": {
          "base_uri": "https://localhost:8080/"
        },
        "id": "hCPBqtw6QzAu",
        "outputId": "27712120-e412-4e95-d939-b68df643b41a"
      },
      "execution_count": null,
      "outputs": [
        {
          "output_type": "execute_result",
          "data": {
            "text/plain": [
              "str"
            ]
          },
          "metadata": {},
          "execution_count": 11
        }
      ]
    },
    {
      "cell_type": "code",
      "source": [
        "x= \"20\"\n",
        "type(x)\n",
        "type(int(x))"
      ],
      "metadata": {
        "colab": {
          "base_uri": "https://localhost:8080/"
        },
        "id": "vHN4sWA-RyNQ",
        "outputId": "46089283-c88e-4650-96ee-4ec2ad932210"
      },
      "execution_count": null,
      "outputs": [
        {
          "output_type": "execute_result",
          "data": {
            "text/plain": [
              "int"
            ]
          },
          "metadata": {},
          "execution_count": 13
        }
      ]
    },
    {
      "cell_type": "code",
      "source": [
        "# addition of two numbers\n",
        "first =int(input(\"Enter first number\"))\n",
        "second = int(input(\"Enter second number\"))\n",
        "\n",
        "sum =first + second\n",
        "print(\"Sum of two numbers\", sum)"
      ],
      "metadata": {
        "colab": {
          "base_uri": "https://localhost:8080/"
        },
        "id": "ForDR_UKSh5Q",
        "outputId": "c3625396-07ec-49c0-8543-b6dadc7646f0"
      },
      "execution_count": null,
      "outputs": [
        {
          "output_type": "stream",
          "name": "stdout",
          "text": [
            "Enter first number10\n",
            "Enter second number20\n",
            "Sum of two numbers 30\n"
          ]
        }
      ]
    },
    {
      "cell_type": "code",
      "source": [
        "# take 3 subjects marks and calculate total and average\n",
        "\n",
        "maths = int (input(\"Enter your maths marks\"))\n",
        "Physics =  int (input(\"Enter your physics marks\"))\n",
        "Chem =  int (input(\"Enter your chem marks\"))\n",
        "Total = maths + Physics + Chem \n",
        "Avg = Total /3\n",
        "print(\"The total marks is \", Total)\n",
        "print(\" The average is \" , Avg)"
      ],
      "metadata": {
        "colab": {
          "base_uri": "https://localhost:8080/"
        },
        "id": "RKmUlLTqSQPX",
        "outputId": "c8dbcb97-9865-4b11-c6c3-c2cc6629ede6"
      },
      "execution_count": null,
      "outputs": [
        {
          "output_type": "stream",
          "name": "stdout",
          "text": [
            "Enter your maths marks58\n",
            "Enter your physics marks45\n",
            "Enter your chem marks73\n",
            "The total marks is  176\n",
            " The average is  58.666666666666664\n"
          ]
        }
      ]
    },
    {
      "cell_type": "code",
      "source": [
        "# swapping two numbers ( interchange values)\n",
        "\n",
        "num1 = int(input(\"Please enter first number\"))\n",
        "num2 = int(input(\"Please enter second number\"))\n",
        "\n",
        "temp =num1\n",
        "\n",
        "num1 = num2\n",
        "num2= temp\n",
        "\n",
        "print(\"After swapping \")\n",
        "\n",
        "print(\"num1\", num1)\n",
        "print(\"num2\", num2)\n"
      ],
      "metadata": {
        "colab": {
          "base_uri": "https://localhost:8080/"
        },
        "id": "fqMJUnjkWmnf",
        "outputId": "312e76df-c657-418c-b3bc-d3556eaea1fa"
      },
      "execution_count": null,
      "outputs": [
        {
          "output_type": "stream",
          "name": "stdout",
          "text": [
            "Please enter first number10\n",
            "Please enter second number20\n",
            "After swapping \n",
            "num1 20\n",
            "num2 10\n"
          ]
        }
      ]
    },
    {
      "cell_type": "code",
      "source": [
        "# calculate area of rectangle\n",
        "\n",
        "length = float(input(\"Enter length of rectangle\"))\n",
        "breath = float(input(\"Enter breath of rectangle \"))\n",
        "\n",
        "area = length * breath \n",
        "print(\"Area of Rectangle \", area)"
      ],
      "metadata": {
        "colab": {
          "base_uri": "https://localhost:8080/"
        },
        "id": "mQ8gf894XseV",
        "outputId": "99860595-7de0-4f81-cdb1-a3552810a86d"
      },
      "execution_count": null,
      "outputs": [
        {
          "output_type": "stream",
          "name": "stdout",
          "text": [
            "Enter length of rectangle20\n",
            "Enter breath of rectangle 15\n",
            "Area of Rectangle  300\n"
          ]
        }
      ]
    },
    {
      "cell_type": "code",
      "source": [
        "#calculate area of circle\n",
        "PI=3.14\n",
        "Radius = float (input (\"Please enter the radius of the given circle: \"))  \n",
        "area_of_the_circle = PI* Radius * Radius  \n",
        "print (\" The area of the given circle is: \", area_of_the_circle)"
      ],
      "metadata": {
        "colab": {
          "base_uri": "https://localhost:8080/"
        },
        "id": "gm53BAadbB_p",
        "outputId": "78d1d3f7-a0c5-47a0-a0d2-1453977f458a"
      },
      "execution_count": 18,
      "outputs": [
        {
          "output_type": "stream",
          "name": "stdout",
          "text": [
            "Please enter the radius of the given circle: 5\n",
            " The area of the given circle is:  78.5\n"
          ]
        }
      ]
    }
  ]
}